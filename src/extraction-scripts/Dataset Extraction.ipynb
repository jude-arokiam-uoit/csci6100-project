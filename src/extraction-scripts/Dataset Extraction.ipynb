{
 "cells": [
  {
   "cell_type": "markdown",
   "metadata": {},
   "source": [
    "# Dataset Extraction\n",
    "The dataset we are using is called **Duplicate Bug Datasets (msr14data)**. The dataset consists of open source projects from Mozilla, Eclispe and Open Office. An attractive property of this dataset is that it includes data on duplicates marked as well as offering a smaller version of Eclipse project. Since we do not know the validity of our method, using the smaller dataset will allow us to test our method without commiting too much time. "
   ]
  },
  {
   "cell_type": "markdown",
   "metadata": {},
   "source": [
    "## 1 Import MongoDB\n",
    "The format the dataset is stored in MongoDB dump files. We do not need all of the data provided and will need to access the cleaned data mulitple time. We extract the following fields from each report:\n",
    "* bug_id\n",
    "* bug_severity\n",
    "* dup_id\n",
    "* short_desc\n",
    "* resolution"
   ]
  },
  {
   "cell_type": "code",
   "execution_count": 17,
   "metadata": {},
   "outputs": [],
   "source": [
    "# import libraries\n",
    "import pymongo\n",
    "import csv\n",
    "\n",
    "# mongodb connection\n",
    "myclient = pymongo.MongoClient(\"mongodb://localhost:27017/\")\n",
    "mydb = myclient[\"mozilla\"]\n",
    "mycol = mydb[\"mozall\"]\n",
    "\n",
    "# create csv file\n",
    "filename = 'raw_mozilla_data.csv'\n",
    "#filename = 'raw_esmall_clear_data.csv'\n",
    "\n",
    "with open(filename, 'w', newline='') as file:\n",
    "    writer = csv.writer(file)\n",
    "    \n",
    "    # query and find all records in collection (table)\n",
    "    # write record to csv file\n",
    "    for report in mycol.find():\n",
    "        if (report.get('short_desc').isascii()):\n",
    "            if (report.get('dup_id') == '[]'):\n",
    "                report['dup_id'] = ''\n",
    "            \n",
    "            writer.writerow([report.get('bug_id'),\n",
    "                             report.get('bug_severity'),\n",
    "                             report.get('dup_id'),\n",
    "                             report.get('short_desc'),\n",
    "                             report.get('resolution')])\n"
   ]
  }
 ],
 "metadata": {
  "kernelspec": {
   "display_name": "Python 3",
   "language": "python",
   "name": "python3"
  },
  "language_info": {
   "codemirror_mode": {
    "name": "ipython",
    "version": 3
   },
   "file_extension": ".py",
   "mimetype": "text/x-python",
   "name": "python",
   "nbconvert_exporter": "python",
   "pygments_lexer": "ipython3",
   "version": "3.7.5"
  }
 },
 "nbformat": 4,
 "nbformat_minor": 2
}
